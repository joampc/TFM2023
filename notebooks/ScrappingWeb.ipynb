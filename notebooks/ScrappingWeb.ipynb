{
  "cells": [
    {
      "cell_type": "markdown",
      "metadata": {
        "id": "view-in-github",
        "colab_type": "text"
      },
      "source": [
        "<a href=\"https://colab.research.google.com/github/joampc/TFM2023/blob/main/notebooks/ScrappingWeb.ipynb\" target=\"_parent\"><img src=\"https://colab.research.google.com/assets/colab-badge.svg\" alt=\"Open In Colab\"/></a>"
      ]
    },
    {
      "cell_type": "markdown",
      "metadata": {
        "id": "3AfL4XwhLO-Q"
      },
      "source": [
        "Ejecutar las dos siguientes celdas\n"
      ]
    },
    {
      "cell_type": "code",
      "execution_count": null,
      "metadata": {
        "colab": {
          "base_uri": "https://localhost:8080/"
        },
        "id": "1VMonPRy4f6J",
        "outputId": "10f4004b-77b2-4567-96f9-936785c992d8"
      },
      "outputs": [
        {
          "name": "stdout",
          "output_type": "stream",
          "text": [
            "Executing: /tmp/apt-key-gpghome.SQbyhvhgKa/gpg.1.sh --keyserver keyserver.ubuntu.com --recv-keys DCC9EFBF77E11517\n",
            "gpg: key DCC9EFBF77E11517: \"Debian Stable Release Key (10/buster) <debian-release@lists.debian.org>\" not changed\n",
            "gpg: Total number processed: 1\n",
            "gpg:              unchanged: 1\n",
            "Executing: /tmp/apt-key-gpghome.tXSeQBtNjl/gpg.1.sh --keyserver keyserver.ubuntu.com --recv-keys 648ACFD622F3D138\n",
            "gpg: key DC30D7C23CBBABEE: \"Debian Archive Automatic Signing Key (10/buster) <ftpmaster@debian.org>\" not changed\n",
            "gpg: Total number processed: 1\n",
            "gpg:              unchanged: 1\n",
            "Executing: /tmp/apt-key-gpghome.lRYQXbydXJ/gpg.1.sh --keyserver keyserver.ubuntu.com --recv-keys 112695A0E562B32A\n",
            "gpg: key 4DFAB270CAA96DFA: \"Debian Security Archive Automatic Signing Key (10/buster) <ftpmaster@debian.org>\" not changed\n",
            "gpg: Total number processed: 1\n",
            "gpg:              unchanged: 1\n",
            "gpg: cannot open '/dev/tty': No such device or address\n",
            "Warning: apt-key output should not be parsed (stdout is not a terminal)\n",
            "gpg: [stdout]: write error: Broken pipe\n",
            "gpg: filter_flush failed on close: Broken pipe\n",
            "gpg: cannot open '/dev/tty': No such device or address\n",
            "Warning: apt-key output should not be parsed (stdout is not a terminal)\n",
            "gpg: [stdout]: write error: Broken pipe\n",
            "gpg: filter_flush failed on close: Broken pipe\n",
            "gpg: cannot open '/dev/tty': No such device or address\n",
            "Warning: apt-key output should not be parsed (stdout is not a terminal)\n",
            "gpg: [stdout]: write error: Broken pipe\n",
            "gpg: filter_flush failed on close: Broken pipe\n"
          ]
        },
        {
          "data": {
            "text/plain": []
          },
          "execution_count": 9,
          "metadata": {},
          "output_type": "execute_result"
        }
      ],
      "source": [
        "%%shell\n",
        "# Ubuntu no longer distributes chromium-browser outside of snap\n",
        "#\n",
        "# Proposed solution: https://askubuntu.com/questions/1204571/how-to-install-chromium-without-snap\n",
        "\n",
        "# Add debian buster\n",
        "cat > /etc/apt/sources.list.d/debian.list <<'EOF'\n",
        "deb [arch=amd64 signed-by=/usr/share/keyrings/debian-buster.gpg] http://deb.debian.org/debian buster main\n",
        "deb [arch=amd64 signed-by=/usr/share/keyrings/debian-buster-updates.gpg] http://deb.debian.org/debian buster-updates main\n",
        "deb [arch=amd64 signed-by=/usr/share/keyrings/debian-security-buster.gpg] http://deb.debian.org/debian-security buster/updates main\n",
        "EOF\n",
        "\n",
        "# Add keys\n",
        "apt-key adv --keyserver keyserver.ubuntu.com --recv-keys DCC9EFBF77E11517\n",
        "apt-key adv --keyserver keyserver.ubuntu.com --recv-keys 648ACFD622F3D138\n",
        "apt-key adv --keyserver keyserver.ubuntu.com --recv-keys 112695A0E562B32A\n",
        "\n",
        "apt-key export 77E11517 | gpg --dearmour -o /usr/share/keyrings/debian-buster.gpg\n",
        "apt-key export 22F3D138 | gpg --dearmour -o /usr/share/keyrings/debian-buster-updates.gpg\n",
        "apt-key export E562B32A | gpg --dearmour -o /usr/share/keyrings/debian-security-buster.gpg\n",
        "\n",
        "# Prefer debian repo for chromium* packages only\n",
        "# Note the double-blank lines between entries\n",
        "cat > /etc/apt/preferences.d/chromium.pref << 'EOF'\n",
        "Package: *\n",
        "Pin: release a=eoan\n",
        "Pin-Priority: 500\n",
        "\n",
        "\n",
        "Package: *\n",
        "Pin: origin \"deb.debian.org\"\n",
        "Pin-Priority: 300\n",
        "\n",
        "\n",
        "Package: chromium*\n",
        "Pin: origin \"deb.debian.org\"\n",
        "Pin-Priority: 700\n",
        "EOF\n"
      ]
    },
    {
      "cell_type": "code",
      "execution_count": null,
      "metadata": {
        "colab": {
          "base_uri": "https://localhost:8080/"
        },
        "id": "zMY83ivH4_Tc",
        "outputId": "ce952900-41b7-4ed2-d048-1c87c5c9f288"
      },
      "outputs": [
        {
          "name": "stdout",
          "output_type": "stream",
          "text": [
            "\r0% [Working]\r            \rHit:1 https://cloud.r-project.org/bin/linux/ubuntu focal-cran40/ InRelease\n",
            "\r0% [Connecting to archive.ubuntu.com] [Connecting to security.ubuntu.com] [Conn\r                                                                               \rHit:2 http://deb.debian.org/debian buster InRelease\n",
            "\r0% [Connecting to archive.ubuntu.com] [Connecting to security.ubuntu.com] [Conn\r                                                                               \rHit:3 http://deb.debian.org/debian buster-updates InRelease\n",
            "\r0% [Connecting to archive.ubuntu.com (185.125.190.39)] [Connecting to security.\r                                                                               \rHit:4 https://developer.download.nvidia.com/compute/cuda/repos/ubuntu2004/x86_64  InRelease\n",
            "Get:5 http://deb.debian.org/debian-security buster/updates InRelease [34.8 kB]\n",
            "Hit:6 http://ppa.launchpad.net/c2d4u.team/c2d4u4.0+/ubuntu focal InRelease\n",
            "Hit:7 http://archive.ubuntu.com/ubuntu focal InRelease\n",
            "Get:8 http://security.ubuntu.com/ubuntu focal-security InRelease [114 kB]\n",
            "Get:9 http://archive.ubuntu.com/ubuntu focal-updates InRelease [114 kB]\n",
            "Hit:10 http://ppa.launchpad.net/cran/libgit2/ubuntu focal InRelease\n",
            "Get:11 http://deb.debian.org/debian-security buster/updates/main amd64 Packages [684 kB]\n",
            "Hit:12 http://ppa.launchpad.net/deadsnakes/ppa/ubuntu focal InRelease\n",
            "Get:13 http://archive.ubuntu.com/ubuntu focal-backports InRelease [108 kB]\n",
            "Hit:14 http://ppa.launchpad.net/graphics-drivers/ppa/ubuntu focal InRelease\n",
            "Hit:15 http://ppa.launchpad.net/ubuntugis/ppa/ubuntu focal InRelease\n",
            "Fetched 1,055 kB in 2s (611 kB/s)\n",
            "Reading package lists... Done\n",
            "Reading package lists... Done\n",
            "Building dependency tree       \n",
            "Reading state information... Done\n",
            "chromium is already the newest version (90.0.4430.212-1~deb10u1).\n",
            "chromium-driver is already the newest version (90.0.4430.212-1~deb10u1).\n",
            "0 upgraded, 0 newly installed, 0 to remove and 20 not upgraded.\n",
            "Requirement already satisfied: selenium in /usr/local/lib/python3.10/dist-packages (4.10.0)\n",
            "Requirement already satisfied: urllib3[socks]<3,>=1.26 in /usr/local/lib/python3.10/dist-packages (from selenium) (1.26.16)\n",
            "Requirement already satisfied: trio~=0.17 in /usr/local/lib/python3.10/dist-packages (from selenium) (0.22.1)\n",
            "Requirement already satisfied: trio-websocket~=0.9 in /usr/local/lib/python3.10/dist-packages (from selenium) (0.10.3)\n",
            "Requirement already satisfied: certifi>=2021.10.8 in /usr/local/lib/python3.10/dist-packages (from selenium) (2023.5.7)\n",
            "Requirement already satisfied: attrs>=20.1.0 in /usr/local/lib/python3.10/dist-packages (from trio~=0.17->selenium) (23.1.0)\n",
            "Requirement already satisfied: sortedcontainers in /usr/local/lib/python3.10/dist-packages (from trio~=0.17->selenium) (2.4.0)\n",
            "Requirement already satisfied: idna in /usr/local/lib/python3.10/dist-packages (from trio~=0.17->selenium) (3.4)\n",
            "Requirement already satisfied: outcome in /usr/local/lib/python3.10/dist-packages (from trio~=0.17->selenium) (1.2.0)\n",
            "Requirement already satisfied: sniffio in /usr/local/lib/python3.10/dist-packages (from trio~=0.17->selenium) (1.3.0)\n",
            "Requirement already satisfied: exceptiongroup>=1.0.0rc9 in /usr/local/lib/python3.10/dist-packages (from trio~=0.17->selenium) (1.1.1)\n",
            "Requirement already satisfied: wsproto>=0.14 in /usr/local/lib/python3.10/dist-packages (from trio-websocket~=0.9->selenium) (1.2.0)\n",
            "Requirement already satisfied: PySocks!=1.5.7,<2.0,>=1.5.6 in /usr/local/lib/python3.10/dist-packages (from urllib3[socks]<3,>=1.26->selenium) (1.7.1)\n",
            "Requirement already satisfied: h11<1,>=0.9.0 in /usr/local/lib/python3.10/dist-packages (from wsproto>=0.14->trio-websocket~=0.9->selenium) (0.14.0)\n"
          ]
        }
      ],
      "source": [
        "!apt-get update\n",
        "!apt-get install chromium chromium-driver\n",
        "!pip3 install selenium\n",
        "\n",
        "from selenium import webdriver\n",
        "from selenium.webdriver.chrome.options import Options\n",
        "\n"
      ]
    },
    {
      "cell_type": "markdown",
      "metadata": {
        "id": "FbMXPzjPLcfO"
      },
      "source": [
        "Aqui se conecta el driver de google chrome con la url de la pagina web de la base de datos"
      ]
    },
    {
      "cell_type": "code",
      "execution_count": null,
      "metadata": {
        "colab": {
          "base_uri": "https://localhost:8080/"
        },
        "id": "XoV_tkuuDrxf",
        "outputId": "5ace83ca-8698-43ee-a067-5505090a032f"
      },
      "outputs": [
        {
          "name": "stdout",
          "output_type": "stream",
          "text": [
            "Base de Datos BEDCA\n"
          ]
        }
      ],
      "source": [
        "url = \"https://www.bedca.net/bdpub/index.php\"\n",
        "options = Options()\n",
        "options.add_argument(\"--headless\")\n",
        "options.add_argument(\"--no-sandbox\")\n",
        "driver = webdriver.Chrome(options=options)\n",
        "driver.get(url)\n",
        "print(driver.title)\n",
        "#driver.quit()"
      ]
    },
    {
      "cell_type": "markdown",
      "metadata": {
        "id": "A0yvScg4VbWi"
      },
      "source": [
        "**Codigo para obtener la tabla que tiene la lista de elementos**\n",
        "\n",
        "COn este codigo obtenemos el listado de elementos que estan identificados por un ID.El fichero resultante se almacena en google drive por lo que te pedira acceso a la cuenta\n",
        "tener en cuenta que en el campo ruta_archivo estamos definiendo una carpeta donde se almacenará el fichero csv resultante. Si no existe crearla o modificar ruta_archivo para la carpeta deseada"
      ]
    },
    {
      "cell_type": "code",
      "execution_count": null,
      "metadata": {
        "id": "qiaHS-km7oSu"
      },
      "outputs": [],
      "source": [
        "from selenium.webdriver.common.by import By\n",
        "from selenium.webdriver.support.ui import WebDriverWait\n",
        "from selenium.webdriver.support import expected_conditions as EC\n",
        "from selenium.webdriver.support.ui import Select\n",
        "from google.colab import drive\n",
        "import csv\n",
        "\n",
        "# Montar Google Drive\n",
        "drive.mount('/content/drive')\n",
        "\n",
        "# Ruta al directorio de Google Drive donde deseas guardar el archivo CSV\n",
        "ruta_archivo = '/content/drive/MyDrive/Colab_Notebooks/resultados.csv'\n",
        "\n",
        "# Crear un archivo CSV para escribir los datos\n",
        "with open(ruta_archivo, 'w', newline='') as file:\n",
        "    writer = csv.writer(file)\n",
        "\n",
        "    # Escribir el encabezado en el archivo\n",
        "    writer.writerow(['id|Nombre|English Name|Nombre Cientifico|Codigo foodex|Parte Comestible|Descripcion'])\n",
        "\n",
        "\n",
        "\n",
        "    # Localiza el elemento por su xpath\n",
        "    enlace_consulta = driver.find_element(By.XPATH, \"//div[@class='link']/a[text()='Consulta']\")\n",
        "\n",
        "    # Haz clic en el enlace\n",
        "    enlace_consulta.click()\n",
        "    driver.implicitly_wait(10)\n",
        "\n",
        "    # Esperar a que el enlace \"Lista alfabética\" esté visible y hacer clic en él\n",
        "    enlace_alfabetico = WebDriverWait(driver, 10).until(EC.visibility_of_element_located((By.ID, \"Alfabetica\")))\n",
        "    enlace_alfabetico.click()\n",
        "\n",
        "    # Esperar a que se carguen los enlaces de las letras del alfabeto\n",
        "    WebDriverWait(driver, 10).until(EC.visibility_of_element_located((By.ID, \"alphabet\")))\n",
        "\n",
        "    # Obtener la lista de enlaces de las letras del alfabeto\n",
        "    enlaces_letras = driver.find_elements(By.CSS_SELECTOR, \"#alphabet a\")\n",
        "\n",
        "    # Recorrer cada enlace y hacer clic\n",
        "    for enlace_letra in enlaces_letras:\n",
        "        # Obtener la letra correspondiente al enlace\n",
        "        letra = enlace_letra.text.strip()\n",
        "\n",
        "        # Hacer clic en el enlace de la letra\n",
        "        enlace_letra.click()\n",
        "\n",
        "        # Esperar a que se carguen los resultados (ajusta el tiempo de espera según sea necesario)\n",
        "        driver.implicitly_wait(10)\n",
        "\n",
        "        # Obtener referencia al div \"content2\"\n",
        "        div_content2 = WebDriverWait(driver, 10).until(EC.visibility_of_element_located((By.ID, \"content2\")))\n",
        "\n",
        "        # Obtener referencia a la tabla de resultados dentro de \"content2\"\n",
        "        table = div_content2.find_element(By.TAG_NAME, \"table\")\n",
        "\n",
        "        # Obtener referencia a las filas de datos en la tabla\n",
        "        table_rows = table.find_elements(By.XPATH, \".//tr[contains(@class, 'row-')]\")\n",
        "\n",
        "        # Recorrer las filas de datos y extraer el contenido\n",
        "        for row_index in range(len(table_rows)):\n",
        "            # Obtener las celdas de la fila actual\n",
        "            cells = table_rows[row_index].find_elements(By.TAG_NAME, \"td\")\n",
        "            row_data = \"|\".join([cell.text.strip() for cell in cells])\n",
        "\n",
        "            # Obtener el enlace dentro de la celda\n",
        "            enlace = cells[0].find_element(By.TAG_NAME, \"a\")\n",
        "            # Hacer clic en el enlace para mostrar los detalles adicionales\n",
        "            enlace.click()\n",
        "\n",
        "            # Esperar a que se carguen los detalles\n",
        "            WebDriverWait(driver, 10).until(EC.staleness_of(enlace))\n",
        "            WebDriverWait(driver, 10).until(EC.visibility_of_element_located((By.XPATH, \"//table[tbody/tr/td/p[b[contains(., 'English name')]]]\")))\n",
        "\n",
        "            # Obtener referencia a la tabla de detalles\n",
        "            detalles_table = driver.find_element(By.XPATH, \"//table[tbody/tr/td/p[b[contains(., 'English name')]]]\")\n",
        "\n",
        "            # Obtener los elementos de texto dentro de la tabla de detalles\n",
        "            detalles_elements = detalles_table.find_elements(By.TAG_NAME, \"p\")\n",
        "\n",
        "            # Recorrer los elementos de texto y extraer su contenido\n",
        "            detalles_values = [element.text.split(':', 1)[-1].strip() for element in detalles_elements[2:]]  # Excluir el campo \"English name\"\n",
        "            detail_data = \"|\".join(detalles_values)\n",
        "            print(f\"{row_data} | {detail_data}\")\n",
        "\n",
        "\n",
        "            # Escribir los datos en el archivo CSV\n",
        "            writer.writerow([row_data, detail_data])\n",
        "\n",
        "            # Hacer clic en el enlace para volver al listado anterior\n",
        "            volver_enlace = driver.find_element(By.XPATH, \"//a[@id='Todos']\")\n",
        "            volver_enlace.click()\n",
        "            # Esperar a que se cargue la tabla de listado anterior\n",
        "            WebDriverWait(driver, 10).until(EC.presence_of_element_located((By.XPATH, \"//table\")))\n",
        "            table = div_content2.find_element(By.TAG_NAME, \"table\")\n",
        "\n",
        "            # Obtener referencia a las filas de datos en la tabla nuevamente\n",
        "            table_rows = table.find_elements(By.XPATH, \".//tr[contains(@class, 'row-')]\")\n",
        "\n",
        "# Cerrar el navegador\n",
        "driver.quit()\n"
      ]
    },
    {
      "cell_type": "markdown",
      "metadata": {
        "id": "Fdi_Kc83WSdi"
      },
      "source": [
        "**Si fueramos a ejecutar el scrapping de otras paginas de la web, por ejemplo los componentes ejecutar nuevamente este codigo**\n"
      ]
    },
    {
      "cell_type": "code",
      "execution_count": null,
      "metadata": {
        "colab": {
          "base_uri": "https://localhost:8080/"
        },
        "id": "Z-qT4Wc2XWkl",
        "outputId": "49f75a08-24a9-4e5d-a936-bbb4ef2d03ab"
      },
      "outputs": [
        {
          "name": "stdout",
          "output_type": "stream",
          "text": [
            "Base de Datos BEDCA\n"
          ]
        }
      ],
      "source": [
        "url = \"https://www.bedca.net/bdpub/index.php\"\n",
        "options = Options()\n",
        "options.add_argument(\"--headless\")\n",
        "options.add_argument(\"--no-sandbox\")\n",
        "driver = webdriver.Chrome(options=options)\n",
        "driver.get(url)\n",
        "print(driver.title)\n",
        "#driver.quit()"
      ]
    },
    {
      "cell_type": "markdown",
      "metadata": {
        "id": "YDc65BZHMW8m"
      },
      "source": [
        "**Este codigo hace scrapping de toda la lista de componentes, va iterando por cada una de las letras del alfabeto, es larga y se demora**\n",
        "Si no fuera posible luego hay una solucion para scrappear y generar un archivo por cada letra"
      ]
    },
    {
      "cell_type": "code",
      "execution_count": null,
      "metadata": {
        "colab": {
          "background_save": true
        },
        "id": "P8I-l_GRhZ4V"
      },
      "outputs": [],
      "source": [
        "import csv\n",
        "from selenium import webdriver\n",
        "from selenium.webdriver.common.by import By\n",
        "from selenium.webdriver.support.ui import WebDriverWait\n",
        "from selenium.webdriver.support import expected_conditions as EC\n",
        "from google.colab import drive\n",
        "\n",
        "\n",
        "# Montar Google Drive\n",
        "drive.mount('/content/drive', force_remount=True)\n",
        "\n",
        "# Ruta al directorio de Google Drive donde deseas guardar el archivo CSV\n",
        "ruta_archivo = '/content/drive/MyDrive/Colab_Notebooks/componentes.csv'\n",
        "\n",
        "\n",
        "\n",
        "\n",
        "# Crear un archivo CSV para escribir los resultados\n",
        "with open(ruta_archivo, 'w', newline='') as csvfile:\n",
        "    writer = csv.writer(csvfile, delimiter='|')\n",
        "\n",
        "    # Escribir la fila de encabezado\n",
        "    writer.writerow(['ID', 'Grupo', 'Componente', 'Valor', 'Unidad', 'Fuente'])\n",
        "\n",
        "    # Encontrar el enlace \"Consulta\" y hacer clic\n",
        "    enlace_consulta = driver.find_element(By.XPATH, \"//div[@class='link']/a[text()='Consulta']\")\n",
        "    enlace_consulta.click()\n",
        "    driver.implicitly_wait(10)\n",
        "\n",
        "    # Esperar a que el enlace \"Lista alfabética\" esté visible y hacer clic en él\n",
        "    enlace_alfabetico = WebDriverWait(driver, 10).until(EC.visibility_of_element_located((By.ID, \"Alfabetica\")))\n",
        "    enlace_alfabetico.click()\n",
        "\n",
        "    # Esperar a que se carguen los enlaces de las letras del alfabeto\n",
        "    WebDriverWait(driver, 10).until(EC.visibility_of_element_located((By.ID, \"alphabet\")))\n",
        "\n",
        "    # Obtener la lista de enlaces de las letras del alfabeto excluyendo el primero q dice Todos\n",
        "    #enlaces_letras = driver.find_elements(By.CSS_SELECTOR, \"#alphabet a\")\n",
        "    enlaces_letras = driver.find_elements(By.CSS_SELECTOR, \"#alphabet a\")[1:6]\n",
        "\n",
        "    # Recorrer cada enlace y hacer clic\n",
        "    for enlace_letra in enlaces_letras:\n",
        "        # Obtener la letra correspondiente al enlace\n",
        "        letra = enlace_letra.text.strip()\n",
        "\n",
        "        # Hacer clic en el enlace de la letra\n",
        "        enlace_letra.click()\n",
        "\n",
        "        # Esperar a que se carguen los resultados\n",
        "        driver.implicitly_wait(10)\n",
        "\n",
        "        # Obtener referencia al div \"content2\"\n",
        "        div_content2 = WebDriverWait(driver, 10).until(EC.visibility_of_element_located((By.ID, \"content2\")))\n",
        "\n",
        "        # Obtener referencia a la tabla de resultados dentro de \"content2\"\n",
        "        table = div_content2.find_element(By.TAG_NAME, \"table\")\n",
        "\n",
        "        # Obtener referencia a las filas de datos en la tabla\n",
        "        table_rows = table.find_elements(By.XPATH, \".//tr[contains(@class, 'row-')]\")\n",
        "\n",
        "        # Recorrer las filas de datos y extraer el contenido\n",
        "        for row_index in range(len(table_rows)):\n",
        "            # Obtener las celdas de la fila actual\n",
        "            cells = table_rows[row_index].find_elements(By.TAG_NAME, \"td\")\n",
        "            id_elem = cells[0].text.strip()\n",
        "\n",
        "            # Hacer clic en el enlace para mostrar los detalles adicionales\n",
        "            enlace = cells[0].find_element(By.TAG_NAME, \"a\")\n",
        "            enlace.click()\n",
        "            # Esperar a que se cargue la tabla de composición\n",
        "            WebDriverWait(driver, 10).until(EC.presence_of_element_located((By.XPATH, \"//h4[text()='Información de composición (por 100 g de porción comestible)']\")))\n",
        "\n",
        "            # Encontrar el encabezado de la tabla de composición\n",
        "            header = driver.find_element(By.TAG_NAME, \"th\")\n",
        "\n",
        "\n",
        "            # Encontrar todos los elementos <tr> dentro de la tabla\n",
        "            tbody = header.find_element(By.XPATH, \"./ancestor::tbody\")\n",
        "\n",
        "            # Encontrar la primera fila de datos después del encabezado\n",
        "            data_row = tbody.find_element(By.XPATH, \"./tr[2]\")\n",
        "\n",
        "\n",
        "            # Obtener el contenido de la primera celda de la fila de datos\n",
        "            first_cell = data_row.find_element(By.TAG_NAME, \"td\")\n",
        "            grupo = first_cell.text\n",
        "            # Obtener todos los elementos <tbody> después del encabezado\n",
        "            tbody_elements = header.find_elements(By.XPATH, \"../../following-sibling::tbody\")\n",
        "\n",
        "\n",
        "\n",
        "            # Extraer el contenido de cada fila\n",
        "\n",
        "            for tbody_element in tbody_elements:\n",
        "                # Obtener las filas de la tabla dentro del <tbody>\n",
        "                tbody_rows = tbody_element.find_elements(By.TAG_NAME, \"tr\")\n",
        "\n",
        "                for tbody_row in tbody_rows:\n",
        "                    if 'background-color:#666600' in tbody_row.get_attribute('innerHTML'):\n",
        "                        grupo = tbody_row.find_element(By.TAG_NAME, 'a').text\n",
        "                        continue\n",
        "                    composicion_alimento = []\n",
        "                    cells = tbody_row.find_elements(By.TAG_NAME, \"td\")\n",
        "                    componente = cells[0].text\n",
        "\n",
        "                    valor = cells[1].text\n",
        "                    unidad = cells[2].text\n",
        "                    fuente = cells[3].text\n",
        "\n",
        "                    # Agregar los datos a la lista de composición del alimento\n",
        "                    composicion_alimento.append((id_elem, grupo, componente, valor, unidad, fuente))\n",
        "                    print(f\"{composicion_alimento}\")\n",
        "                    # Escribir la fila de datos en el archivo CSV\n",
        "                    writer.writerow([id_elem, grupo, componente, valor, unidad, fuente])\n",
        "        # Hacer clic en el enlace para volver al listado anterior\n",
        "\n",
        "            volver_enlace = driver.find_element(By.XPATH, \"//a[@id='Todos']\")\n",
        "            volver_enlace.click()\n",
        "\n",
        "\n",
        "\n",
        "      # Volver a obtener la referencia a la tabla de resultados\n",
        "            div_content2 = WebDriverWait(driver, 10).until(EC.visibility_of_element_located((By.ID, \"content2\")))\n",
        "            table = div_content2.find_element(By.TAG_NAME, \"table\")\n",
        "            table_rows = table.find_elements(By.XPATH, \".//tr[contains(@class, 'row-')]\")\n",
        "\n",
        "        # Volver a la página anterior (opcional)\n",
        "driver.back()\n"
      ]
    },
    {
      "cell_type": "markdown",
      "metadata": {
        "id": "KQVsUGO2My3c"
      },
      "source": [
        "Este codigo genera un fichero por cada letra, la ventaja es que si falla se puede ejecutar nuevamente, y solamente se debe modificar en esta linea\n",
        "\n",
        "**enlaces_letras = driver.find_elements(By.CSS_SELECTOR, \"#alphabet a\")[1:]**\n",
        "\n",
        "el numero correspondiente a la posicion de la letra\n",
        "\n"
      ]
    },
    {
      "cell_type": "code",
      "source": [
        "url = \"https://www.bedca.net/bdpub/index.php\"\n",
        "options = Options()\n",
        "options.add_argument(\"--headless\")\n",
        "options.add_argument(\"--no-sandbox\")\n",
        "driver = webdriver.Chrome(options=options)\n",
        "driver.get(url)\n",
        "print(driver.title)\n",
        "#driver.quit()"
      ],
      "metadata": {
        "id": "ZbovgMxEY_Ep"
      },
      "execution_count": null,
      "outputs": []
    },
    {
      "cell_type": "code",
      "execution_count": null,
      "metadata": {
        "id": "ene2JjJ4YWLr"
      },
      "outputs": [],
      "source": [
        "from pickleshare import Path\n",
        "import csv\n",
        "from selenium import webdriver\n",
        "from selenium.webdriver.common.by import By\n",
        "from selenium.webdriver.support.ui import WebDriverWait\n",
        "from selenium.webdriver.support import expected_conditions as EC\n",
        "from google.colab import drive\n",
        "\n",
        "\n",
        "\n",
        "\n",
        "# Montar Google Drive\n",
        "drive.mount('/content/drive')\n",
        "\n",
        "# Ruta al directorio de Google Drive donde deseas guardar el archivo CSV\n",
        "ruta_archivo = '/content/drive/MyDrive/Colab_Notebooks/'\n",
        "\n",
        "\n",
        "\n",
        "\n",
        "# Encontrar el enlace \"Consulta\" y hacer clic\n",
        "enlace_consulta = driver.find_element(By.XPATH, \"//div[@class='link']/a[text()='Consulta']\")\n",
        "enlace_consulta.click()\n",
        "driver.implicitly_wait(10)\n",
        "\n",
        "# Esperar a que el enlace \"Lista alfabética\" esté visible y hacer clic en él\n",
        "enlace_alfabetico = WebDriverWait(driver, 10).until(EC.visibility_of_element_located((By.ID, \"Alfabetica\")))\n",
        "enlace_alfabetico.click()\n",
        "\n",
        "# Esperar a que se carguen los enlaces de las letras del alfabeto\n",
        "WebDriverWait(driver, 10).until(EC.visibility_of_element_located((By.ID, \"alphabet\")))\n",
        "\n",
        "# Obtener la lista de enlaces de las letras del alfabeto excluyendo el primero que dice todos\n",
        "#enlaces_letras = driver.find_elements(By.CSS_SELECTOR, \"#alphabet a\")\n",
        "enlaces_letras = driver.find_elements(By.CSS_SELECTOR, \"#alphabet a\")[1:]\n",
        "\n",
        "\n",
        "# Recorrer cada enlace y hacer clic\n",
        "for enlace_letra in enlaces_letras:\n",
        "    # Obtener la letra correspondiente al enlace\n",
        "    nombre_archivo = ''\n",
        "    letra = enlace_letra.text.strip()\n",
        "\n",
        "    # Hacer clic en el enlace de la letra\n",
        "    enlace_letra.click()\n",
        "    print(letra)\n",
        "    # Esperar a que se carguen los resultados\n",
        "    driver.implicitly_wait(25)\n",
        "\n",
        "    # Obtener referencia al div \"content2\"\n",
        "    div_content2 = WebDriverWait(driver, 10).until(EC.visibility_of_element_located((By.ID, \"content2\")))\n",
        "\n",
        "    # Obtener referencia a la tabla de resultados dentro de \"content2\"\n",
        "    table = div_content2.find_element(By.TAG_NAME, \"table\")\n",
        "\n",
        "    # Obtener referencia a las filas de datos en la tabla\n",
        "    table_rows = table.find_elements(By.XPATH, \".//tr[contains(@class, 'row-')]\")\n",
        "\n",
        "\n",
        "    # Crear un archivo CSV para escribir los resultados de la letra actual\n",
        "    nombre_archivo = f'componentes_{letra}'\n",
        "    path = f'{ruta_archivo}{nombre_archivo}.csv'\n",
        "    with open(path, 'w', newline='') as csvfile:\n",
        "        writer = csv.writer(csvfile, delimiter='|')\n",
        "\n",
        "        # Escribir la fila de encabezado\n",
        "        writer.writerow(['ID', 'Grupo', 'Componente', 'Valor', 'Unidad', 'Fuente'])\n",
        "\n",
        "        # Recorrer las filas de datos y extraer el contenido\n",
        "        for row_index in range(len(table_rows)):\n",
        "            # Obtener las celdas de la fila actual\n",
        "            cells = table_rows[row_index].find_elements(By.TAG_NAME, \"td\")\n",
        "            id_elem = cells[0].text.strip()\n",
        "\n",
        "            # Hacer clic en el enlace para mostrar los detalles adicionales\n",
        "            enlace = cells[0].find_element(By.TAG_NAME, \"a\")\n",
        "            enlace.click()\n",
        "            # Esperar a que se cargue la tabla de composición\n",
        "            WebDriverWait(driver, 10).until(EC.presence_of_element_located((By.XPATH, \"//h4[text()='Información de composición (por 100 g de porción comestible)']\")))\n",
        "\n",
        "            # Encontrar el encabezado de la tabla de composición\n",
        "            header = driver.find_element(By.TAG_NAME, \"th\")\n",
        "\n",
        "            # Encontrar todos los elementos <tr> dentro de la tabla\n",
        "            tbody = header.find_element(By.XPATH, \"./ancestor::tbody\")\n",
        "\n",
        "            # Encontrar la primera fila de datos después del encabezado\n",
        "            data_row = tbody.find_element(By.XPATH, \"./tr[2]\")\n",
        "\n",
        "            # Obtener el contenido de la primera celda de la fila de datos\n",
        "            first_cell = data_row.find_element(By.TAG_NAME, \"td\")\n",
        "            grupo = first_cell.text\n",
        "\n",
        "            # Obtener todos los elementos <tbody> después del encabezado\n",
        "            tbody_elements = header.find_elements(By.XPATH, \"../../following-sibling::tbody\")\n",
        "\n",
        "            # Extraer el contenido de cada fila\n",
        "            for tbody_element in tbody_elements:\n",
        "                # Obtener las filas de la tabla dentro del <tbody>\n",
        "                tbody_rows = tbody_element.find_elements(By.TAG_NAME, \"tr\")\n",
        "\n",
        "                for tbody_row in tbody_rows:\n",
        "                    if 'background-color:#666600' in tbody_row.get_attribute('innerHTML'):\n",
        "                        grupo = tbody_row.find_element(By.TAG_NAME, 'a').text\n",
        "                        continue\n",
        "                    composicion_alimento = []\n",
        "                    cells = tbody_row.find_elements(By.TAG_NAME, \"td\")\n",
        "                    componente = cells[0].text\n",
        "\n",
        "                    valor = cells[1].text\n",
        "                    unidad = cells[2].text\n",
        "                    fuente = cells[3].text\n",
        "\n",
        "                    # Agregar los datos a la lista de composición del alimento\n",
        "                    composicion_alimento.append((id_elem, grupo, componente, valor, unidad, fuente))\n",
        "                    print(f\"{composicion_alimento}\")\n",
        "                    # Escribir la fila de datos en el archivo CSV\n",
        "                    writer.writerow([id_elem, grupo, componente, valor, unidad, fuente])\n",
        "\n",
        "            # Hacer clic en el enlace para volver al listado anterior\n",
        "            volver_enlace = driver.find_element(By.XPATH, \"//a[@id='Todos']\")\n",
        "            volver_enlace.click()\n",
        "\n",
        "\n",
        "            # Volver a obtener la referencia a la tabla de resultados\n",
        "            div_content2 = WebDriverWait(driver, 10).until(EC.visibility_of_element_located((By.ID, \"content2\")))\n",
        "            table = div_content2.find_element(By.TAG_NAME, \"table\")\n",
        "            table_rows = table.find_elements(By.XPATH, \".//tr[contains(@class, 'row-')]\")\n",
        "\n",
        "        # # Volver a la página anterior (opcional)\n",
        "        # driver.back()\n",
        "\n",
        "# Cerrar el controlador de Selenium\n",
        "driver.quit()\n"
      ]
    },
    {
      "cell_type": "markdown",
      "metadata": {
        "id": "4fjiQdqtPcV8"
      },
      "source": [
        "\n",
        "**el siguiente codigo ejecutarlo por si se pierde la referencia a la pagina, igual si da error se puede volver a ejecutar las dos primeras celdas del notebook para volver a cargar el driver**\n",
        "\n",
        "\n",
        "\n",
        "\n"
      ]
    },
    {
      "cell_type": "code",
      "execution_count": null,
      "metadata": {
        "colab": {
          "base_uri": "https://localhost:8080/"
        },
        "id": "4eIxDSNRZ_GP",
        "outputId": "0b945c6b-401e-4ddc-8e3f-5eeccbbcff53"
      },
      "outputs": [
        {
          "name": "stdout",
          "output_type": "stream",
          "text": [
            "Base de Datos BEDCA\n"
          ]
        }
      ],
      "source": [
        "url = \"https://www.bedca.net/bdpub/index.php\"\n",
        "options = Options()\n",
        "options.add_argument(\"--headless\")\n",
        "options.add_argument(\"--no-sandbox\")\n",
        "driver = webdriver.Chrome(options=options)\n",
        "driver.get(url)\n",
        "print(driver.title)\n",
        "#driver.quit()"
      ]
    },
    {
      "cell_type": "markdown",
      "metadata": {
        "id": "3n1jtyqhkBNf"
      },
      "source": [
        "**el codigo siguiente guarda en un fichero en drive la descricion de los componentes, tener en cuenta que debe existir la carpeta en drive como se recomendo previamente**"
      ]
    },
    {
      "cell_type": "code",
      "execution_count": null,
      "metadata": {
        "id": "q9vuAQ27Pciq"
      },
      "outputs": [],
      "source": [
        "from pickleshare import Path\n",
        "import csv\n",
        "from selenium import webdriver\n",
        "from selenium.webdriver.common.by import By\n",
        "from selenium.webdriver.support.ui import WebDriverWait\n",
        "from selenium.webdriver.support import expected_conditions as EC\n",
        "from google.colab import drive\n",
        "from selenium.common.exceptions import NoSuchElementException\n",
        "\n",
        "\n",
        "\n",
        "\n",
        "\n",
        "# Montar Google Drive\n",
        "drive.mount('/content/drive')\n",
        "\n",
        "# Ruta al directorio de Google Drive donde deseas guardar el archivo CSV\n",
        "ruta_archivo = '/content/drive/MyDrive/Colab_Notebooks/'\n",
        "\n",
        "\n",
        "\n",
        "\n",
        "# Encontrar el enlace \"Consulta\" y hacer clic\n",
        "enlace_consulta = driver.find_element(By.XPATH, \"//div[@class='link']/a[text()='Consulta']\")\n",
        "enlace_consulta.click()\n",
        "driver.implicitly_wait(10)\n",
        "\n",
        "# Esperar a que el enlace \"Lista alfabética\" esté visible y hacer clic en él\n",
        "enlace_alfabetico = WebDriverWait(driver, 10).until(EC.visibility_of_element_located((By.ID, \"Alfabetica\")))\n",
        "enlace_alfabetico.click()\n",
        "\n",
        "# Esperar a que se carguen los enlaces de las letras del alfabeto\n",
        "WebDriverWait(driver, 10).until(EC.visibility_of_element_located((By.ID, \"alphabet\")))\n",
        "\n",
        "\n",
        "\n",
        "enlaces_letras = driver.find_elements(By.CSS_SELECTOR, \"#alphabet a\")\n",
        "\n",
        "\n",
        "# Obtener el enlace de la letra \"M\", busco la mayonesa con aceite de girasol porque tiene descripcion para todos los componentes\n",
        "enlace_letra_m = enlaces_letras[13]  # Segundo enlace (índice 13) corresponde a la letra \"M\"\n",
        "\n",
        "# Hacer clic en el enlace de la letra \"M\"\n",
        "enlace_letra_m.click()\n",
        "\n",
        "# Esperar a que se carguen los resultados\n",
        "driver.implicitly_wait(30)\n",
        "\n",
        "# Obtener referencia al div \"content2\"\n",
        "div_content2 = WebDriverWait(driver, 10).until(EC.visibility_of_element_located((By.ID, \"content2\")))\n",
        "\n",
        "# Obtener referencia a la tabla de resultados dentro de \"content2\"\n",
        "table = div_content2.find_element(By.TAG_NAME, \"table\")\n",
        "\n",
        "# Obtener referencia a las filas de datos en la tabla\n",
        "table_rows = table.find_elements(By.XPATH, \".//tr[contains(@class, 'row-')]\")\n",
        "first_row = table_rows[0]\n",
        "\n",
        "# Obtener las celdas de la primera fila\n",
        "cells = first_row.find_elements(By.TAG_NAME, \"td\")\n",
        "\n",
        "\n",
        "\n",
        "for row in table_rows:\n",
        "    try:\n",
        "        cell = row.find_element(By.ID, \"foodname\")\n",
        "        if cell.text == \"Mayonesa con aceite de girasol\":\n",
        "            first_row = row\n",
        "\n",
        "            break\n",
        "    except NoSuchElementException:\n",
        "        continue\n",
        "\n",
        "\n",
        "\n",
        "# Crear un archivo CSV para escribir los resultados de la letra actual\n",
        "nombre_archivo = f'descripcion_componentes'\n",
        "path = f'{ruta_archivo}{nombre_archivo}.csv'\n",
        "with open(path, 'w', newline='') as csvfile:\n",
        "  writer = csv.writer(csvfile, delimiter='|')\n",
        "  # Escribir la fila de encabezado\n",
        "  writer.writerow(['componente', 'Descripcion'])\n",
        "  # Obtener la primera fila de table_rows\n",
        "\n",
        "\n",
        "  # Obtener las celdas de la primera fila\n",
        "  cells = first_row.find_elements(By.TAG_NAME, \"td\")\n",
        "\n",
        "  # Hacer clic en el enlace para mostrar los detalles adicionales\n",
        "  enlace = cells[0].find_element(By.TAG_NAME, \"a\")\n",
        "  enlace.click()\n",
        "\n",
        "  # Esperar a que se cargue la tabla de composición\n",
        "  WebDriverWait(driver, 10).until(EC.presence_of_element_located((By.XPATH, \"//h4[text()='Información de composición (por 100 g de porción comestible)']\")))\n",
        "\n",
        "  # Encontrar el encabezado de la tabla de composición\n",
        "  header = driver.find_element(By.TAG_NAME, \"th\")\n",
        "\n",
        "   # Obtener todos los elementos <tbody> después del encabezado\n",
        "  tbody_elements = header.find_elements(By.XPATH, \"../../following-sibling::tbody\")\n",
        "\n",
        "  # Extraer el contenido de cada fila\n",
        "  for tbody_element in tbody_elements:\n",
        "        # Obtener las filas de la tabla dentro del <tbody>\n",
        "        tbody_rows = tbody_element.find_elements(By.TAG_NAME, \"tr\")\n",
        "        for tbody_row in tbody_rows:\n",
        "          if 'background-color:#666600' in tbody_row.get_attribute('innerHTML'):\n",
        "              continue\n",
        "          cells = tbody_row.find_elements(By.TAG_NAME, \"td\")\n",
        "          componente = cells[0].text\n",
        "          script = f\"var element = document.getElementById('glos{componente}'); if (element) return element.textContent;\"\n",
        "          contenido_div = driver.execute_script(script)\n",
        "          if contenido_div is None:\n",
        "            contenido_div = ''\n",
        "\n",
        "          # Imprimir el contenido del elemento <div>\n",
        "          print(f\"{componente}|{contenido_div}\")\n",
        "\n",
        "          # Escribir la fila de datos en el archivo CSV\n",
        "          writer.writerow([componente, contenido_div])\n",
        "\n",
        "\n",
        "\n",
        "\n",
        "\n",
        "\n",
        "\n",
        "\n",
        "\n",
        "\n",
        "\n",
        "# Cerrar el controlador de Selenium\n",
        "#driver.quit()\n"
      ]
    },
    {
      "cell_type": "code",
      "execution_count": null,
      "metadata": {
        "colab": {
          "base_uri": "https://localhost:8080/"
        },
        "id": "7d5oBwB9NpCf",
        "outputId": "417841e9-291d-4627-d88e-f8855a17d0b0"
      },
      "outputs": [
        {
          "name": "stdout",
          "output_type": "stream",
          "text": [
            "Base de Datos BEDCA\n"
          ]
        }
      ],
      "source": [
        "url = \"https://www.bedca.net/bdpub/index.php\"\n",
        "options = Options()\n",
        "options.add_argument(\"--headless\")\n",
        "options.add_argument(\"--no-sandbox\")\n",
        "driver = webdriver.Chrome(options=options)\n",
        "driver.get(url)\n",
        "print(driver.title)\n",
        "#driver.quit()"
      ]
    },
    {
      "cell_type": "markdown",
      "metadata": {
        "id": "8DRArXk8nykK"
      },
      "source": [
        "**Aqui se genera un archivo con el contenido de las fuentes de donde se ha obtenido la informacion de composicion**"
      ]
    },
    {
      "cell_type": "code",
      "execution_count": null,
      "metadata": {
        "id": "Cx4e5rGKlOcj"
      },
      "outputs": [],
      "source": [
        "from pickleshare import Path\n",
        "import csv\n",
        "from selenium import webdriver\n",
        "from selenium.webdriver.common.by import By\n",
        "from selenium.webdriver.support.ui import WebDriverWait\n",
        "from selenium.webdriver.support import expected_conditions as EC\n",
        "from google.colab import drive\n",
        "from selenium.common.exceptions import NoSuchElementException\n",
        "\n",
        "\n",
        "\n",
        "\n",
        "\n",
        "# Montar Google Drive\n",
        "drive.mount('/content/drive')\n",
        "\n",
        "# Ruta al directorio de Google Drive donde deseas guardar el archivo CSV\n",
        "ruta_archivo = '/content/drive/MyDrive/Colab_Notebooks/'\n",
        "\n",
        "\n",
        "\n",
        "\n",
        "# Encontrar el enlace \"Consulta\" y hacer clic\n",
        "enlace_fuentes = driver.find_element(By.XPATH, \"//div[@class='link']/a[text()='Fuentes']\")\n",
        "enlace_fuentes.click()\n",
        "\n",
        "\n",
        "# Esperar a que se carguen los resultados\n",
        "driver.implicitly_wait(30)\n",
        "\n",
        "# Obtener referencia al div \"content2\"\n",
        "div_content2 = WebDriverWait(driver, 10).until(EC.visibility_of_element_located((By.ID, \"content2\")))\n",
        "\n",
        "# Obtener referencia a la tabla de resultados dentro de \"content2\"\n",
        "table = div_content2.find_element(By.TAG_NAME, \"table\")\n",
        "\n",
        "# Obtener referencia a las filas de datos en la tabla\n",
        "table_rows = table.find_elements(By.XPATH, \".//tr[contains(@class, 'row-')]\")\n",
        "\n",
        "nombre_archivo = f'Fuentes'\n",
        "path = f'{ruta_archivo}{nombre_archivo}.csv'\n",
        "with open(path, 'w', newline='') as csvfile:\n",
        "  writer = csv.writer(csvfile, delimiter='|')\n",
        "\n",
        "  # Escribir la fila de encabezado\n",
        "  writer.writerow(['Id_fuente', 'Fuente'])\n",
        "  for row in table_rows:\n",
        "      # Obtener las celdas de la fila actual\n",
        "      cells = row.find_elements(By.TAG_NAME, \"td\")\n",
        "      id_elem = cells[0].text.strip()\n",
        "      fuente = cells[1].text.strip()\n",
        "      # Imprimir el contenido del elemento <div>\n",
        "      print(f\"{id_elem}|{fuente}\")\n",
        "\n",
        "      # Escribir la fila de datos en el archivo CSV\n",
        "      writer.writerow([id_elem, fuente])\n",
        "\n",
        "\n"
      ]
    },
    {
      "cell_type": "code",
      "execution_count": null,
      "metadata": {
        "colab": {
          "base_uri": "https://localhost:8080/"
        },
        "id": "bmxcuEgtItCc",
        "outputId": "cbeeed78-7723-4675-c152-28592325ecde"
      },
      "outputs": [
        {
          "name": "stdout",
          "output_type": "stream",
          "text": [
            "Base de Datos BEDCA\n"
          ]
        }
      ],
      "source": [
        "url = \"https://www.bedca.net/bdpub/index.php\"\n",
        "options = Options()\n",
        "options.add_argument(\"--headless\")\n",
        "options.add_argument(\"--no-sandbox\")\n",
        "driver = webdriver.Chrome(options=options)\n",
        "driver.get(url)\n",
        "print(driver.title)\n",
        "#driver.quit()"
      ]
    },
    {
      "cell_type": "code",
      "execution_count": null,
      "metadata": {
        "id": "J_ZZXidJoDuS"
      },
      "outputs": [],
      "source": [
        "from pickleshare import Path\n",
        "import csv\n",
        "from selenium import webdriver\n",
        "from selenium.webdriver.common.by import By\n",
        "from selenium.webdriver.support.ui import WebDriverWait\n",
        "from selenium.webdriver.support import expected_conditions as EC\n",
        "from google.colab import drive\n",
        "from selenium.webdriver.support.ui import Select\n",
        "\n",
        "\n",
        "\n",
        "\n",
        "\n",
        "# Montar Google Drive\n",
        "drive.mount('/content/drive')\n",
        "\n",
        "# Ruta al directorio de Google Drive donde deseas guardar el archivo CSV\n",
        "ruta_archivo = '/content/drive/MyDrive/Colab_Notebooks/'\n",
        "\n",
        "\n",
        "\n",
        "\n",
        "# Encontrar el enlace \"Consulta\" y hacer clic\n",
        "enlace_consulta = driver.find_element(By.XPATH, \"//div[@class='link']/a[text()='Consulta']\")\n",
        "enlace_consulta.click()\n",
        "driver.implicitly_wait(10)\n",
        "\n",
        "# Esperar a que el enlace \"Grupo de Alimentos\" esté visible y hacer clic en él\n",
        "enlace_grupo = WebDriverWait(driver, 10).until(EC.visibility_of_element_located((By.ID, \"General\")))\n",
        "enlace_grupo.click()\n",
        "\n",
        "driver.implicitly_wait(30)\n",
        "\n",
        "\n",
        "# # Obtener referencia al elemento select\n",
        "# select_element = driver.find_element(By.ID, \"fglist\")\n",
        "\n",
        "# # Crear objeto Select a partir del elemento select\n",
        "# select = Select(select_element)\n",
        "\n",
        "# Esperar a que el elemento del select esté visible\n",
        "wait = WebDriverWait(driver, 10)\n",
        "select_element = wait.until(EC.visibility_of_element_located((By.ID, \"fglist\")))\n",
        "\n",
        "# Crear el objeto Select\n",
        "select = Select(select_element)\n",
        "\n",
        "# Esperar a que el elemento del select esté visible\n",
        "wait = WebDriverWait(driver, 10)\n",
        "select_element = wait.until(EC.visibility_of_element_located((By.ID, \"fglist\")))\n",
        "\n",
        "filename = \"grupos_alimentos\"\n",
        "path = f'{ruta_archivo}{filename}.csv'\n",
        "\n",
        "with open(path, 'w', newline='') as csvfile:\n",
        "   writer = csv.writer(csvfile)\n",
        "   writer.writerow([\"ID Select\", \"Texto\", \"ID\"])\n",
        "\n",
        "    # Recorrer cada opción y seleccionarla\n",
        "   for i in range(len(select_element.find_elements(By.TAG_NAME, \"option\"))):\n",
        "        # Obtener el elemento del select en cada iteración para evitar StaleElementReferenceException\n",
        "        select_element = wait.until(EC.visibility_of_element_located((By.ID, \"fglist\")))\n",
        "\n",
        "        # Crear el objeto Select\n",
        "        select = Select(select_element)\n",
        "\n",
        "        # Obtener la opción actual en cada iteración\n",
        "        option = select.options[i]\n",
        "\n",
        "        # Obtener el texto de la opción\n",
        "        texto = option.text\n",
        "\n",
        "        # Seleccionar la opción en el select\n",
        "        select.select_by_index(i)\n",
        "        # texto=option.text\n",
        "        print(texto)\n",
        "\n",
        "        # Obtener el valor de la opción\n",
        "        value = option.get_attribute(\"value\")\n",
        "\n",
        "        # # Seleccionar la opción en el select\n",
        "        # select.select_by_value(value)\n",
        "\n",
        "\n",
        "        # Seleccionar la opción en el select\n",
        "        select.select_by_index(i)\n",
        "\n",
        "        # Obtener el valor de la opción seleccionada\n",
        "        selected_value = select.first_selected_option.get_attribute(\"value\")\n",
        "        # Hacer clic en el botón \"Consultar\"\n",
        "        consultar_button = driver.find_element(By.XPATH, \"//input[@value='Consultar']\")\n",
        "        consultar_button.click()\n",
        "\n",
        "\n",
        "        # Esperar a que se cargue la tabla \"querytable1\"\n",
        "        table = WebDriverWait(driver, 10).until(EC.visibility_of_element_located((By.ID, \"querytable1\")))\n",
        "\n",
        "        # Obtener referencia a las filas de la tabla\n",
        "        #rows = table.find_elements(By.TAG_NAME, \"tr\")\n",
        "        rows = table.find_elements(By.XPATH, \".//tr[contains(@class, 'row-')]\")\n",
        "\n",
        "\n",
        "        # Crear un archivo CSV para escribir los datos de la tabla\n",
        "        filename = f\"grupos.csv\"\n",
        "        with open(filename, 'w', newline='') as csvfile:\n",
        "            writer = csv.writer(csvfile)\n",
        "            writer.writerow([\"ID Select\", \"Texto\", \"ID\"])\n",
        "\n",
        "            # Recorrer las filas de la tabla y guardar los datos en el archivo CSV\n",
        "            for row in rows:\n",
        "                # Obtener las celdas de la fila actual\n",
        "                cells = row.find_elements(By.TAG_NAME, \"td\")\n",
        "                if len(cells) >= 1:\n",
        "                    id_select = value\n",
        "                    #id_select = select_element.get_attribute(\"value\")\n",
        "\n",
        "                    id_celda = cells[0].text.strip()\n",
        "                    print(f\"{id_select}|{texto}|{id_celda}\")\n",
        "                    writer.writerow([id_select, texto, id_celda])\n",
        "            # Hacer clic en el enlace para volver al listado anterior\n",
        "            volver_enlace = driver.find_element(By.XPATH, \"//a[@id='Todos']\")\n",
        "            volver_enlace.click()"
      ]
    },
    {
      "cell_type": "code",
      "source": [
        "!ls\n",
        "\n"
      ],
      "metadata": {
        "colab": {
          "base_uri": "https://localhost:8080/"
        },
        "id": "xBoO56ty2kB_",
        "outputId": "64bd0e21-2e72-425a-a24e-469d31b70b0c"
      },
      "execution_count": 76,
      "outputs": [
        {
          "output_type": "stream",
          "name": "stdout",
          "text": [
            "notebooks  README.md\n"
          ]
        }
      ]
    },
    {
      "cell_type": "code",
      "source": [
        "!git status\n"
      ],
      "metadata": {
        "colab": {
          "base_uri": "https://localhost:8080/"
        },
        "id": "VdPRbMK13OGG",
        "outputId": "29977c23-fff7-42fc-f9b4-59c0125f2b93"
      },
      "execution_count": 77,
      "outputs": [
        {
          "output_type": "stream",
          "name": "stdout",
          "text": [
            "On branch main\n",
            "Your branch is up to date with 'origin/main'.\n",
            "\n",
            "nothing to commit, working tree clean\n"
          ]
        }
      ]
    },
    {
      "cell_type": "code",
      "source": [
        "!git add notebooks\n"
      ],
      "metadata": {
        "id": "XDt-M3Sk3RL3"
      },
      "execution_count": 78,
      "outputs": []
    },
    {
      "cell_type": "code",
      "source": [
        "!git commit -m \"Agregada la carpeta notebooks\"\n"
      ],
      "metadata": {
        "colab": {
          "base_uri": "https://localhost:8080/"
        },
        "id": "1c25P7BJ3TcP",
        "outputId": "f4c043da-aa6f-4393-c941-6d4a3257e193"
      },
      "execution_count": 79,
      "outputs": [
        {
          "output_type": "stream",
          "name": "stdout",
          "text": [
            "On branch main\n",
            "Your branch is up to date with 'origin/main'.\n",
            "\n",
            "nothing to commit, working tree clean\n"
          ]
        }
      ]
    },
    {
      "cell_type": "code",
      "source": [
        "!git push origin main\n"
      ],
      "metadata": {
        "colab": {
          "base_uri": "https://localhost:8080/"
        },
        "id": "XxKb6mBg3WaW",
        "outputId": "4a5195b0-dd13-4b1f-d124-9a3d705c88a9"
      },
      "execution_count": 81,
      "outputs": [
        {
          "output_type": "stream",
          "name": "stdout",
          "text": [
            "Load key \"/content/id_rsa.pub\": invalid format\r\n",
            "git@github.com: Permission denied (publickey).\r\n",
            "fatal: Could not read from remote repository.\n",
            "\n",
            "Please make sure you have the correct access rights\n",
            "and the repository exists.\n"
          ]
        }
      ]
    }
  ],
  "metadata": {
    "colab": {
      "provenance": [],
      "include_colab_link": true
    },
    "kernelspec": {
      "display_name": "Python 3",
      "name": "python3"
    },
    "language_info": {
      "name": "python"
    }
  },
  "nbformat": 4,
  "nbformat_minor": 0
}